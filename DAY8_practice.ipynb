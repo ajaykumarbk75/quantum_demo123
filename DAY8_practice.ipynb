{
 "cells": [
  {
   "cell_type": "code",
   "execution_count": 1,
   "id": "018e6ff1",
   "metadata": {},
   "outputs": [
    {
     "name": "stdout",
     "output_type": "stream",
     "text": [
      "✅ Model trained and saved as iris_model.pkl\n"
     ]
    }
   ],
   "source": [
    "# save_model.py\n",
    "import joblib\n",
    "from sklearn.datasets import load_iris\n",
    "from sklearn.model_selection import train_test_split\n",
    "from sklearn.ensemble import RandomForestClassifier\n",
    "\n",
    "# 1. Load data\n",
    "iris = load_iris()\n",
    "X = iris.data\n",
    "y = iris.target\n",
    "\n",
    "# 2. Train-test split\n",
    "X_train, X_test, y_train, y_test = train_test_split(X, y, test_size=0.2, random_state=42)\n",
    "\n",
    "# 3. Train model\n",
    "model = RandomForestClassifier(n_estimators=100, random_state=42)\n",
    "model.fit(X_train, y_train)\n",
    "\n",
    "# 4. Save the model\n",
    "joblib.dump(model, \"iris_model.pkl\")\n",
    "print(\"✅ Model trained and saved as iris_model.pkl\")\n"
   ]
  },
  {
   "cell_type": "code",
   "execution_count": 2,
   "id": "9387a375",
   "metadata": {},
   "outputs": [],
   "source": [
    "# app.py\n",
    "from fastapi import FastAPI, HTTPException, Depends\n",
    "from pydantic import BaseModel\n",
    "import joblib\n",
    "import numpy as np\n",
    "from fastapi.security import OAuth2PasswordBearer\n",
    "\n",
    "# Load the trained model\n",
    "model = joblib.load(\"iris_model.pkl\")\n",
    "\n",
    "# OAuth2 Security Setup\n",
    "oauth2_scheme = OAuth2PasswordBearer(tokenUrl=\"token\")\n",
    "\n",
    "app = FastAPI(\n",
    "    title=\"Iris Model API\",\n",
    "    description=\"A FastAPI app to serve ML model predictions with OAuth2 Security\",\n",
    "    version=\"1.0.0\"\n",
    ")\n",
    "\n",
    "# Input schema\n",
    "class IrisInput(BaseModel):\n",
    "    sepal_length: float\n",
    "    sepal_width: float\n",
    "    petal_length: float\n",
    "    petal_width: float\n",
    "\n",
    "# Fake token verification (Demo Purpose)\n",
    "def fake_verify_token(token: str = Depends(oauth2_scheme)):\n",
    "    if token != \"mysecrettoken\":\n",
    "        raise HTTPException(status_code=401, detail=\"Invalid or missing token\")\n",
    "    return token\n",
    "\n",
    "@app.get(\"/\")\n",
    "def home():\n",
    "    return {\"message\": \"Welcome to Iris Model API\"}\n",
    "\n",
    "@app.post(\"/predict\")\n",
    "def predict(data: IrisInput, token: str = Depends(fake_verify_token)):\n",
    "    features = np.array([[data.sepal_length, data.sepal_width, data.petal_length, data.petal_width]])\n",
    "    prediction = model.predict(features)[0]\n",
    "    return {\"prediction\": int(prediction)}\n"
   ]
  },
  {
   "cell_type": "code",
   "execution_count": null,
   "id": "2c7c3445",
   "metadata": {},
   "outputs": [],
   "source": []
  }
 ],
 "metadata": {
  "kernelspec": {
   "display_name": "Python 3",
   "language": "python",
   "name": "python3"
  },
  "language_info": {
   "codemirror_mode": {
    "name": "ipython",
    "version": 3
   },
   "file_extension": ".py",
   "mimetype": "text/x-python",
   "name": "python",
   "nbconvert_exporter": "python",
   "pygments_lexer": "ipython3",
   "version": "3.10.0"
  }
 },
 "nbformat": 4,
 "nbformat_minor": 5
}
